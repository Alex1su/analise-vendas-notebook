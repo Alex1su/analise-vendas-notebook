{
 "cells": [
  {
   "cell_type": "markdown",
   "metadata": {
    "application/vnd.databricks.v1+cell": {
     "cellMetadata": {
      "byteLimit": 2048000,
      "rowLimit": 10000
     },
     "inputWidgets": {},
     "nuid": "18eb9cc6-ce69-4c59-9b8a-1c757b48bfab",
     "showTitle": false,
     "tableResultSettingsMap": {},
     "title": ""
    }
   },
   "source": [
    "**Quais fatores afetam os preços dos laptops?**\n",
    "\n",
    "- Diversos fatores podem afetar o preço de um laptop. Entre eles, estão a marca do computador e o número de opcionais e complementos incluídos no pacote. Além disso, a quantidade de memória e a velocidade do processador também podem afetar o preço. Embora menos comum, alguns consumidores gastam mais dinheiro para comprar um computador com base na \"aparência\" geral e no design do sistema.\n",
    "\n",
    "- Em muitos casos, computadores de marca são mais caros do que as versões genéricas. Esse aumento de preço geralmente tem mais a ver com o reconhecimento da marca do que com a superioridade real do produto. Uma grande diferença entre sistemas de marca e genéricos é que, na maioria dos casos, os computadores de marca oferecem garantias melhores do que as versões genéricas. Ter a opção de devolver um computador com defeito costuma ser um incentivo suficiente para incentivar muitos consumidores a gastar mais.\n",
    "A funcionalidade é um fator importante na determinação do preço de um laptop. Um computador com mais memória geralmente tem um desempenho melhor e por mais tempo do que um com menos memória. Além disso, o espaço em disco rígido também é crucial, e o tamanho do disco rígido geralmente afeta o preço. Muitos consumidores também podem procurar drivers de vídeo digital e outros tipos de dispositivos de gravação que podem afetar o preço do laptop.\n",
    "\n",
    "- A maioria dos computadores vem com algum software pré-instalado. Na maioria dos casos, quanto mais softwares estiverem instalados em um computador, mais caro ele será. Isso é especialmente verdadeiro se os programas instalados forem de editoras de software bem estabelecidas e reconhecidas. Aqueles que consideram comprar um novo laptop devem estar cientes de que muitos dos programas pré-instalados podem ser apenas versões de teste e expirarão dentro de um determinado período de tempo. Para manter os programas, um código precisará ser comprado e, em seguida, uma versão permanente do software poderá ser baixada.\n",
    "\n",
    "-  Muitos consumidores que estão comprando um novo computador estão comprando um pacote completo. Além do próprio computador, esses sistemas geralmente incluem um monitor, teclado e mouse. Alguns pacotes podem até incluir uma impressora ou câmera digital. O número de extras incluídos em um pacote de computador geralmente afeta os preços dos laptops.\n",
    "\n",
    "- Alguns líderes do setor de fabricação de computadores fazem da oferta de computadores com design elegante e em uma variedade de cores um atrativo de vendas. Eles também podem oferecer designs de sistema incomuns ou contemporâneos. Embora isso seja menos importante para muitos consumidores, para aqueles que valorizam a \"aparência\", esse tipo de sistema pode valer o custo extra\n"
   ]
  },
  {
   "cell_type": "markdown",
   "metadata": {
    "application/vnd.databricks.v1+cell": {
     "cellMetadata": {
      "byteLimit": 2048000,
      "rowLimit": 10000
     },
     "inputWidgets": {},
     "nuid": "e6dabadd-7d89-4628-8fc9-17f1d8753246",
     "showTitle": false,
     "tableResultSettingsMap": {},
     "title": ""
    }
   },
   "source": [
    "**De onde obtive esses dados?**\n",
    "\n",
    "- Esses dados foram extraídos do flipkart.com\n",
    "- usou uma ferramenta de extensão da web automatizada do Chrome chamada Instant Data Scrapper\n",
    "- É altamente recomendável que você use esta bela ferramenta para obter dados de qualquer lugar na web. É muito fácil de usar e não requer conhecimento de codificação.\n"
   ]
  },
  {
   "cell_type": "markdown",
   "metadata": {
    "application/vnd.databricks.v1+cell": {
     "cellMetadata": {
      "byteLimit": 2048000,
      "rowLimit": 10000
     },
     "inputWidgets": {},
     "nuid": "19f003ce-399b-4041-b55b-6fa773c9ca51",
     "showTitle": false,
     "tableResultSettingsMap": {},
     "title": ""
    }
   },
   "source": [
    "**De onde obtive esses dados?**\n",
    "\n",
    "- Esses dados foram extraídos do flipkart.com\n",
    "- usou uma ferramenta de extensão da web automatizada do Chrome chamada Instant Data Scrapper\n",
    "- É altamente recomendável que você use esta bela ferramenta para obter dados de qualquer lugar na web. É muito fácil de usar e não requer conhecimento de codificação."
   ]
  },
  {
   "cell_type": "markdown",
   "metadata": {
    "application/vnd.databricks.v1+cell": {
     "cellMetadata": {
      "byteLimit": 2048000,
      "rowLimit": 10000
     },
     "inputWidgets": {},
     "nuid": "d34e573e-42e7-4c2e-8948-6c09398f7853",
     "showTitle": false,
     "tableResultSettingsMap": {},
     "title": ""
    }
   },
   "source": [
    "# Análise Descritiva(SQL)\n"
   ]
  },
  {
   "cell_type": "markdown",
   "metadata": {
    "application/vnd.databricks.v1+cell": {
     "cellMetadata": {
      "byteLimit": 2048000,
      "rowLimit": 10000
     },
     "inputWidgets": {},
     "nuid": "9b461655-0677-4a0c-a9f8-fc500333bb46",
     "showTitle": false,
     "tableResultSettingsMap": {},
     "title": ""
    }
   },
   "source": [
    "## Exploração/Desenvolvimento"
   ]
  },
  {
   "cell_type": "code",
   "execution_count": 0,
   "metadata": {
    "application/vnd.databricks.v1+cell": {
     "cellMetadata": {
      "byteLimit": 2048000,
      "implicitDf": true,
      "rowLimit": 10000
     },
     "inputWidgets": {},
     "nuid": "02bbc0fb-78b8-40ac-9aaa-98dfa12d93ab",
     "showTitle": false,
     "tableResultSettingsMap": {},
     "title": ""
    }
   },
   "outputs": [],
   "source": [
    "%sql\n",
    "alter view vw_notebooks_vendidos \n",
    "as\n",
    "select *,\n",
    " (preco_atual * 0.063) as preco_atual_real,\n",
    " (preco_anterior * 0.063) as preco_anterior_real,\n",
    " (disconto/100) as desconto\n",
    "from notebooks_vendidos"
   ]
  },
  {
   "cell_type": "code",
   "execution_count": 0,
   "metadata": {
    "application/vnd.databricks.v1+cell": {
     "cellMetadata": {
      "byteLimit": 2048000,
      "implicitDf": true,
      "rowLimit": 10000
     },
     "inputWidgets": {},
     "nuid": "ead9e606-c246-4758-ad6b-7bbd7157f1ac",
     "showTitle": false,
     "tableResultSettingsMap": {},
     "title": ""
    }
   },
   "outputs": [],
   "source": [
    "%sql\n",
    "select * from vw_notebooks_vendidos"
   ]
  },
  {
   "cell_type": "markdown",
   "metadata": {
    "application/vnd.databricks.v1+cell": {
     "cellMetadata": {
      "byteLimit": 2048000,
      "rowLimit": 10000
     },
     "inputWidgets": {},
     "nuid": "129bd816-e96a-4f94-bb26-06292bdf0383",
     "showTitle": false,
     "tableResultSettingsMap": {},
     "title": ""
    }
   },
   "source": [
    "\n",
    "Média dos preços das marcas"
   ]
  },
  {
   "cell_type": "code",
   "execution_count": 0,
   "metadata": {
    "application/vnd.databricks.v1+cell": {
     "cellMetadata": {
      "byteLimit": 2048000,
      "implicitDf": true,
      "rowLimit": 10000
     },
     "inputWidgets": {},
     "nuid": "2338639d-b872-4b00-a331-4929eb4758c1",
     "showTitle": false,
     "tableResultSettingsMap": {
      "0": {
       "dataGridStateBlob": "{\"version\":1,\"tableState\":{\"columnPinning\":{\"left\":[\"#row_number#\"],\"right\":[]},\"columnSizing\":{},\"columnVisibility\":{}},\"settings\":{\"columns\":{\"media_preco_atual\":{\"format\":{\"preset\":\"number-preset-standard\",\"config\":{\"type\":\"number-plain\",\"abbreviation\":\"none\",\"decimalPlaces\":{\"type\":\"max\",\"places\":2},\"hideGroupSeparator\":false}}}}},\"syncTimestamp\":1759505836963}",
       "filterBlob": "{\"version\":1,\"filterGroups\":[],\"syncTimestamp\":1759510258661}",
       "queryPlanFiltersBlob": "[]",
       "tableResultIndex": 0
      }
     },
     "title": ""
    }
   },
   "outputs": [],
   "source": [
    "%sql\n",
    "select \n",
    "case when marca ='lenovo' then 'Lenovo' \n",
    "  else marca \n",
    "end as marca_ajustada,\n",
    "avg(preco_atual_real) as media_preco_atual\n",
    "from vw_notebooks_vendidos\n",
    "group by\n",
    "case when marca ='lenovo' then 'Lenovo' \n",
    "  else marca \n",
    "end\n",
    "order by 2 desc\n"
   ]
  },
  {
   "cell_type": "markdown",
   "metadata": {
    "application/vnd.databricks.v1+cell": {
     "cellMetadata": {
      "byteLimit": 2048000,
      "rowLimit": 10000
     },
     "inputWidgets": {},
     "nuid": "9fef2db4-60e0-4a90-b034-80118b4a7935",
     "showTitle": false,
     "tableResultSettingsMap": {},
     "title": ""
    }
   },
   "source": [
    "\n",
    "Participação das memórias(DDR3, DDR4 e DDR5)"
   ]
  },
  {
   "cell_type": "code",
   "execution_count": 0,
   "metadata": {
    "application/vnd.databricks.v1+cell": {
     "cellMetadata": {
      "byteLimit": 2048000,
      "rowLimit": 10000
     },
     "inputWidgets": {},
     "nuid": "2ce7eeed-eb10-4742-a747-28c037e901f6",
     "showTitle": false,
     "tableResultSettingsMap": {
      "0": {
       "dataGridStateBlob": "{\"version\":1,\"tableState\":{\"columnPinning\":{\"left\":[\"#row_number#\"],\"right\":[]},\"columnSizing\":{\"#row_number#\":52},\"columnVisibility\":{}},\"settings\":{\"columns\":{}},\"syncTimestamp\":1759506656330}",
       "filterBlob": null,
       "queryPlanFiltersBlob": null,
       "tableResultIndex": 0
      }
     },
     "title": ""
    }
   },
   "outputs": [],
   "source": [
    "select \n",
    "case when tipo_memoria='LPDDR3' then 'DDR3'\n",
    "     when tipo_memoria in('LPDDR4','LPDDR4X') then 'DDR4'\n",
    "else tipo_memoria end as tipo_memoria_ajustada\n",
    ",\n",
    "avg(preco_atual_real) as media_preco_atual\n",
    "from vw_notebooks_vendidos\n",
    "group by\n",
    "case when tipo_memoria='LPDDR3' then 'DDR3'\n",
    "     when tipo_memoria in('LPDDR4','LPDDR4X') then 'DDR4'\n",
    "else tipo_memoria end\n",
    "order by 2 desc"
   ]
  },
  {
   "cell_type": "code",
   "execution_count": 0,
   "metadata": {
    "application/vnd.databricks.v1+cell": {
     "cellMetadata": {
      "byteLimit": 2048000,
      "rowLimit": 10000
     },
     "inputWidgets": {},
     "nuid": "c22e46e1-c761-4dc2-a8a3-ab22a4abce27",
     "showTitle": false,
     "tableResultSettingsMap": {},
     "title": ""
    }
   },
   "outputs": [],
   "source": []
  }
 ],
 "metadata": {
  "application/vnd.databricks.v1+notebook": {
   "computePreferences": null,
   "dashboards": [
    {
     "elements": [
      {
       "dashboardResultIndex": 0,
       "elementNUID": "2ce7eeed-eb10-4742-a747-28c037e901f6",
       "elementType": "command",
       "guid": "1ef46b6e-e818-4e60-9e99-fd65c600edac",
       "options": {
        "autoScaleImg": false,
        "scale": 0,
        "showTitle": false,
        "titleAlign": "center"
       },
       "position": {
        "height": 6,
        "width": 12,
        "x": 0,
        "y": 0,
        "z": null
       },
       "resultIndex": null
      },
      {
       "dashboardResultIndex": null,
       "elementNUID": "d34e573e-42e7-4c2e-8948-6c09398f7853",
       "elementType": "command",
       "guid": "40f21e0e-d06a-4c68-af7c-91fa12296d23",
       "options": null,
       "position": {
        "height": 6,
        "width": 12,
        "x": 0,
        "y": 6,
        "z": null
       },
       "resultIndex": null
      },
      {
       "dashboardResultIndex": null,
       "elementNUID": "18eb9cc6-ce69-4c59-9b8a-1c757b48bfab",
       "elementType": "command",
       "guid": "66e50e87-d945-419b-8744-ecb95d8c3a69",
       "options": null,
       "position": {
        "height": 6,
        "width": 12,
        "x": 0,
        "y": 12,
        "z": null
       },
       "resultIndex": null
      },
      {
       "dashboardResultIndex": 0,
       "elementNUID": "ead9e606-c246-4758-ad6b-7bbd7157f1ac",
       "elementType": "command",
       "guid": "98bdcf00-591c-4a46-9d9a-747cb259ee15",
       "options": null,
       "position": {
        "height": 6,
        "width": 12,
        "x": 0,
        "y": 18,
        "z": null
       },
       "resultIndex": null
      },
      {
       "dashboardResultIndex": null,
       "elementNUID": "19f003ce-399b-4041-b55b-6fa773c9ca51",
       "elementType": "command",
       "guid": "be73a5bc-4b3e-4eff-89ca-0698cef98d66",
       "options": null,
       "position": {
        "height": 6,
        "width": 12,
        "x": 0,
        "y": 24,
        "z": null
       },
       "resultIndex": null
      },
      {
       "dashboardResultIndex": null,
       "elementNUID": "e6dabadd-7d89-4628-8fc9-17f1d8753246",
       "elementType": "command",
       "guid": "bff4aac2-8670-4a2c-a9a6-99661d026313",
       "options": null,
       "position": {
        "height": 6,
        "width": 12,
        "x": 0,
        "y": 30,
        "z": null
       },
       "resultIndex": null
      },
      {
       "dashboardResultIndex": null,
       "elementNUID": "9fef2db4-60e0-4a90-b034-80118b4a7935",
       "elementType": "command",
       "guid": "c37af271-56f0-4856-9b39-0992a43de445",
       "options": null,
       "position": {
        "height": 6,
        "width": 12,
        "x": 0,
        "y": 36,
        "z": null
       },
       "resultIndex": null
      },
      {
       "dashboardResultIndex": null,
       "elementNUID": "9b461655-0677-4a0c-a9f8-fc500333bb46",
       "elementType": "command",
       "guid": "e03d5f0c-f42c-4c1c-b278-aa827c5864ed",
       "options": null,
       "position": {
        "height": 6,
        "width": 12,
        "x": 0,
        "y": 42,
        "z": null
       },
       "resultIndex": null
      },
      {
       "dashboardResultIndex": 0,
       "elementNUID": "2338639d-b872-4b00-a331-4929eb4758c1",
       "elementType": "command",
       "guid": "e06085cc-28f6-45c5-b2c4-6e973df8669e",
       "options": null,
       "position": {
        "height": 6,
        "width": 12,
        "x": 0,
        "y": 48,
        "z": null
       },
       "resultIndex": null
      }
     ],
     "globalVars": {},
     "guid": "",
     "layoutOption": {
      "grid": true,
      "stack": false
     },
     "nuid": "53c82fdf-f7f2-4f41-a228-0d4b5f8186c9",
     "origId": 6831667122797537,
     "title": "Untitled",
     "version": "DashboardViewV1",
     "width": 1024
    }
   ],
   "environmentMetadata": {
    "base_environment": "",
    "environment_version": "3"
   },
   "inputWidgetPreferences": null,
   "language": "sql",
   "notebookMetadata": {
    "mostRecentlyExecutedCommandWithImplicitDF": {
     "commandId": -1,
     "dataframes": [
      "_sqldf"
     ]
    },
    "pythonIndentUnit": 4
   },
   "notebookName": "Análise Descritiva (SQL)",
   "widgets": {}
  },
  "language_info": {
   "name": "sql"
  }
 },
 "nbformat": 4,
 "nbformat_minor": 0
}
